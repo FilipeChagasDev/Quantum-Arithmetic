{
 "cells": [
  {
   "cell_type": "code",
   "execution_count": 1,
   "metadata": {},
   "outputs": [],
   "source": [
    "import qiskit\n",
    "from qiskit_reg_by_const_qft_adder import reg_by_const_qft_adder\n",
    "from numeric_systems import *\n",
    "from typing import *\n",
    "from test_tools import *"
   ]
  },
  {
   "cell_type": "code",
   "execution_count": 2,
   "metadata": {},
   "outputs": [
    {
     "name": "stdout",
     "output_type": "stream",
     "text": [
      "a=-4, c=-4, result=-8\n",
      "a=-4, c=-3, result=-7\n",
      "a=-4, c=-2, result=-6\n",
      "a=-4, c=-1, result=-5\n",
      "a=-4, c=0, result=-4\n",
      "a=-4, c=1, result=-3\n",
      "a=-4, c=2, result=-2\n",
      "a=-3, c=-4, result=-7\n",
      "a=-3, c=-3, result=-6\n",
      "a=-3, c=-2, result=-5\n",
      "a=-3, c=-1, result=-4\n",
      "a=-3, c=0, result=-3\n",
      "a=-3, c=1, result=-2\n",
      "a=-3, c=2, result=-1\n",
      "a=-2, c=-4, result=-6\n",
      "a=-2, c=-3, result=-5\n",
      "a=-2, c=-2, result=-4\n",
      "a=-2, c=-1, result=-3\n",
      "a=-2, c=0, result=-2\n",
      "a=-2, c=1, result=-1\n",
      "a=-2, c=2, result=0\n",
      "a=-1, c=-4, result=-5\n",
      "a=-1, c=-3, result=-4\n",
      "a=-1, c=-2, result=-3\n",
      "a=-1, c=-1, result=-2\n",
      "a=-1, c=0, result=-1\n",
      "a=-1, c=1, result=0\n",
      "a=-1, c=2, result=1\n",
      "a=0, c=-4, result=-4\n",
      "a=0, c=-3, result=-3\n",
      "a=0, c=-2, result=-2\n",
      "a=0, c=-1, result=-1\n",
      "a=0, c=0, result=0\n",
      "a=0, c=1, result=1\n",
      "a=0, c=2, result=2\n",
      "a=1, c=-4, result=-3\n",
      "a=1, c=-3, result=-2\n",
      "a=1, c=-2, result=-1\n",
      "a=1, c=-1, result=0\n",
      "a=1, c=0, result=1\n",
      "a=1, c=1, result=2\n",
      "a=1, c=2, result=3\n",
      "a=2, c=-4, result=-2\n",
      "a=2, c=-3, result=-1\n",
      "a=2, c=-2, result=0\n",
      "a=2, c=-1, result=1\n",
      "a=2, c=0, result=2\n",
      "a=2, c=1, result=3\n",
      "a=2, c=2, result=4\n"
     ]
    }
   ],
   "source": [
    "for a in range(-4, 3):\n",
    "    for c in range(-4, 3):\n",
    "        #Create the quantum circuit\n",
    "        my_circuit = qiskit.QuantumCircuit(4)\n",
    "\n",
    "        #Initialize register with $a$\n",
    "        a_binary = integer_to_binary(a, 4)\n",
    "        for i in range(4):\n",
    "            if a_binary[i] == True:\n",
    "                my_circuit.x(i)\n",
    "\n",
    "        #Create gate\n",
    "        g = reg_by_const_qft_adder(4, c)\n",
    "\n",
    "        #Append gate to the circuit\n",
    "        my_circuit.append(g, list(range(4)))\n",
    "\n",
    "        #Append measurements\n",
    "        my_circuit.measure_all()\n",
    "\n",
    "        #Simulation\n",
    "        result_binary = one_shot_simulation(my_circuit)\n",
    "        result_integer = binary_to_integer(result_binary)\n",
    "        print(f'a={a}, c={c}, result={result_integer}')"
   ]
  }
 ],
 "metadata": {
  "kernelspec": {
   "display_name": "Python 3",
   "language": "python",
   "name": "python3"
  },
  "language_info": {
   "codemirror_mode": {
    "name": "ipython",
    "version": 3
   },
   "file_extension": ".py",
   "mimetype": "text/x-python",
   "name": "python",
   "nbconvert_exporter": "python",
   "pygments_lexer": "ipython3",
   "version": "3.8.5"
  }
 },
 "nbformat": 4,
 "nbformat_minor": 4
}
